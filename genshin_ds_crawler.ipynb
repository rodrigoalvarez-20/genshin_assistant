{
 "cells": [
  {
   "cell_type": "code",
   "execution_count": null,
   "id": "55b54f35-4926-4ece-83aa-69efbcf4022d",
   "metadata": {},
   "outputs": [],
   "source": [
    "# Obtener data de la Wiki de GI (esperando no ser baneado)\n",
    "# Este proceso solo se debe de ejecutar 1 sola vez\n",
    "# El proceso obtendrá los datos de todos los personajes y almacenará individualmente los archivos en la carpeta \"datasets\""
   ]
  },
  {
   "cell_type": "code",
   "execution_count": 2,
   "id": "d492ac93-6e39-4db4-b3d9-c857d41c964d",
   "metadata": {},
   "outputs": [],
   "source": [
    "from bs4 import BeautifulSoup as bs\n",
    "import requests\n",
    "import os"
   ]
  },
  {
   "cell_type": "code",
   "execution_count": 3,
   "id": "2968e98f-0b9c-4a8d-8946-dea6b30e08f3",
   "metadata": {},
   "outputs": [],
   "source": [
    "BASE_WIKI_URL = \"https://genshin-impact.fandom.com/wiki\"\n",
    "OUTPUT_DIR = \"en_datasets\""
   ]
  },
  {
   "cell_type": "code",
   "execution_count": 4,
   "id": "fb137788-19ef-487d-82f0-d8d4984269a9",
   "metadata": {},
   "outputs": [],
   "source": [
    "if not os.path.exists(OUTPUT_DIR):\n",
    "    os.mkdir(OUTPUT_DIR)"
   ]
  },
  {
   "cell_type": "code",
   "execution_count": 5,
   "id": "379e5b93-d91b-4e3c-b188-3a1853c89033",
   "metadata": {},
   "outputs": [],
   "source": [
    "wmp = requests.get(BASE_WIKI_URL + \"/Genshin_Impact_Wiki\")\n",
    "\n",
    "if wmp.status_code != 200:\n",
    "    print(\"Ha ocurido un error al obtener los datos de la wiki\")\n",
    "    exit(-1)"
   ]
  },
  {
   "cell_type": "code",
   "execution_count": 32,
   "id": "40dceed5-cbb7-4af0-b960-dd3f60e877c3",
   "metadata": {},
   "outputs": [],
   "source": [
    "soup = bs(wmp.text, \"html.parser\")"
   ]
  },
  {
   "cell_type": "code",
   "execution_count": 41,
   "id": "ccd726ff-aeed-4bda-91ef-30d62f4b79f9",
   "metadata": {
    "tags": []
   },
   "outputs": [],
   "source": [
    "dicts_of_chars = {}\n",
    "for elem in soup.find_all(\"div\", { \"class\": \"card-container\"}):\n",
    "    #print(elem.find(\"a\").get(\"href\"))\n",
    "    link_tag = elem.find(\"a\")\n",
    "    pj = link_tag.get(\"title\")\n",
    "    link = link_tag.get(\"href\").split(\"/\")[-1]\n",
    "    dicts_of_chars[pj] = \"/\" + link + \"/Lore\""
   ]
  },
  {
   "cell_type": "code",
   "execution_count": null,
   "id": "644297f8-0dad-49b5-bf9a-4521fd4f23dd",
   "metadata": {
    "tags": []
   },
   "outputs": [],
   "source": [
    "dicts_of_chars"
   ]
  },
  {
   "cell_type": "code",
   "execution_count": 43,
   "id": "d7030211-af5f-4ab2-a0d7-eea0dff4177c",
   "metadata": {},
   "outputs": [],
   "source": [
    "#DESCRIPTION_ID = \"mw-content-text\"\n",
    "DESCRIPTION_CLASS = \"mw-parser-output\""
   ]
  },
  {
   "cell_type": "code",
   "execution_count": null,
   "id": "a586e263-0ed6-49c2-b848-59a007f0dbd0",
   "metadata": {},
   "outputs": [],
   "source": [
    "from time import sleep\n",
    "total_keys = len(dicts_of_chars)\n",
    "for idx, k in enumerate(dicts_of_chars):\n",
    "    #if idx > 5: break\n",
    "    pj_wiki = requests.get(BASE_WIKI_URL + dicts_of_chars[k])\n",
    "    if pj_wiki.status_code != 200:\n",
    "        print(\"Ha ocurrido un error al obtener los datos del PJ: {}\".format(k))\n",
    "        sleep(5)\n",
    "        continue\n",
    "    \n",
    "    soup = bs(pj_wiki.text, \"html.parser\")\n",
    "    file_name = k.replace(\" \", \"_\")\n",
    "    pj_desc_container = soup.find(\"div\", { \"class\": DESCRIPTION_CLASS })\n",
    "    tg_childs = pj_desc_container.children\n",
    "    tg_childs = [*tg_childs]\n",
    "    tg_childs = [*tg_childs][6:]\n",
    "    with open(OUTPUT_DIR + \"/\" + file_name + \".txt\", \"w\") as f:\n",
    "        f.write(k.upper() + \"\\n\\n\")\n",
    "        for c in tg_childs:\n",
    "            if c.name in [\"p\", \"h2\", \"div\" ] and not c.get(\"class\"):\n",
    "                text_content = c.text.replace(\"[\", \"\").replace(\"]\", \"\").strip()\n",
    "                if text_content == \"Namecard\":\n",
    "                    break\n",
    "                f.write(text_content + \"\\n\")\n",
    "    print(\"Finish #{} of #{} -- {}\".format(idx, total_keys, k))\n",
    "    sleep(5)"
   ]
  },
  {
   "cell_type": "code",
   "execution_count": null,
   "id": "41fd5b0c-89d1-4b35-b7ac-ca9c6752626f",
   "metadata": {},
   "outputs": [],
   "source": []
  }
 ],
 "metadata": {
  "kernelspec": {
   "display_name": "Python 3 (ipykernel)",
   "language": "python",
   "name": "python3"
  },
  "language_info": {
   "codemirror_mode": {
    "name": "ipython",
    "version": 3
   },
   "file_extension": ".py",
   "mimetype": "text/x-python",
   "name": "python",
   "nbconvert_exporter": "python",
   "pygments_lexer": "ipython3",
   "version": "3.11.3"
  }
 },
 "nbformat": 4,
 "nbformat_minor": 5
}
