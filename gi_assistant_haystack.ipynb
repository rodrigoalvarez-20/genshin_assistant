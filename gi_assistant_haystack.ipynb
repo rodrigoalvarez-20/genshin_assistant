{
 "cells": [
  {
   "cell_type": "code",
   "execution_count": null,
   "id": "2e512069-fb07-41a7-a2a3-4266af23329a",
   "metadata": {
    "tags": []
   },
   "outputs": [],
   "source": [
    "## Genshin Assistant\n",
    "# Un programa que te brinda informacion acerca de los personajes de GI, con documentos guardados en memoria"
   ]
  },
  {
   "cell_type": "markdown",
   "id": "5bfc2070-9320-4780-9cd4-93124add8ea6",
   "metadata": {
    "tags": []
   },
   "source": [
    "# Arquitectura\n",
    "\n",
    "- Text Generation Model for PromptNode (text2text):\n",
    "    - text-davinci-003\n",
    "    - google/flan-t5-small (posible de usar)\n",
    "    - mrm8488/t5-small-spanish-finetuned-squadv1 (posible de usar, necesita pregunta y contexto\"\n",
    "- "
   ]
  },
  {
   "cell_type": "code",
   "execution_count": null,
   "id": "9e2cf726-742a-4b78-af2f-ee5ecf3ba5e7",
   "metadata": {},
   "outputs": [],
   "source": [
    "# Init and load the datasets"
   ]
  },
  {
   "cell_type": "code",
   "execution_count": null,
   "id": "4e8c066e-d2db-47b2-88d0-06b7d507decf",
   "metadata": {
    "tags": []
   },
   "outputs": [],
   "source": [
    "from haystack.agents.memory import ConversationSummaryMemory\n",
    "from haystack.document_stores import ElasticsearchDocumentStore\n",
    "from haystack.nodes import TextConverter, PreProcessor, BM25Retriever, PromptNode, PromptTemplate, AnswerParser\n",
    "from haystack.agents import Tool, AgentStep, Agent\n",
    "from haystack.agents.base import Agent, ToolsManager\n",
    "from haystack import Pipeline\n",
    "import logging\n",
    "import os\n",
    "os.environ[\"ELASTICSEARCH_HOST\"] = \"127.0.0.1\""
   ]
  },
  {
   "cell_type": "code",
   "execution_count": null,
   "id": "d59d5bfd-97fb-4ab8-b2f1-e0170155ec3d",
   "metadata": {
    "tags": []
   },
   "outputs": [],
   "source": [
    "logging.basicConfig(format=\"%(levelname)s - %(name)s -  %(message)s\", level=logging.WARNING)\n",
    "logging.getLogger(\"haystack\").setLevel(logging.INFO)"
   ]
  },
  {
   "cell_type": "code",
   "execution_count": null,
   "id": "1afa68a1-854f-42c3-be0c-128a2cda0571",
   "metadata": {},
   "outputs": [],
   "source": [
    "host = os.environ.get(\"ELASTICSEARCH_HOST\", \"localhost\")"
   ]
  },
  {
   "cell_type": "code",
   "execution_count": null,
   "id": "9abacdfe-ad58-4bdb-859a-9b9b2a691b66",
   "metadata": {
    "tags": []
   },
   "outputs": [],
   "source": [
    "host"
   ]
  },
  {
   "cell_type": "code",
   "execution_count": null,
   "id": "cbcf9f01-127c-491c-a6b2-967a6d36efb0",
   "metadata": {
    "tags": []
   },
   "outputs": [],
   "source": [
    "document_store = ElasticsearchDocumentStore(host=host, username=\"\", password=\"\", index=\"document\")"
   ]
  },
  {
   "cell_type": "code",
   "execution_count": null,
   "id": "2250d0e9-7224-4f82-9dde-ac292f46ef7b",
   "metadata": {
    "tags": []
   },
   "outputs": [],
   "source": [
    "document_store"
   ]
  },
  {
   "cell_type": "code",
   "execution_count": null,
   "id": "500f5262-2be8-4bb4-a19e-46d502b88162",
   "metadata": {
    "tags": []
   },
   "outputs": [],
   "source": [
    "indexing_pipeline = Pipeline()\n",
    "text_converter = TextConverter()\n",
    "preprocessor = PreProcessor(\n",
    "    clean_whitespace=True,\n",
    "    clean_header_footer=True,\n",
    "    clean_empty_lines=True,\n",
    "    split_by=\"word\",\n",
    "    split_length=200,\n",
    "    split_overlap=20,\n",
    "    split_respect_sentence_boundary=True,\n",
    ")"
   ]
  },
  {
   "cell_type": "code",
   "execution_count": null,
   "id": "33ccbff7-b309-44e4-bbc2-adec7ef1c243",
   "metadata": {
    "tags": []
   },
   "outputs": [],
   "source": [
    "indexing_pipeline.add_node(component=text_converter, name=\"TextConverter\", inputs=[\"File\"])\n",
    "indexing_pipeline.add_node(component=preprocessor, name=\"PreProcessor\", inputs=[\"TextConverter\"])\n",
    "indexing_pipeline.add_node(component=document_store, name=\"DocumentStore\", inputs=[\"PreProcessor\"])"
   ]
  },
  {
   "cell_type": "code",
   "execution_count": null,
   "id": "b65617ba-2af4-4d08-913c-1c22993ebd57",
   "metadata": {
    "tags": []
   },
   "outputs": [],
   "source": [
    "doc_dir = \"datasets\""
   ]
  },
  {
   "cell_type": "code",
   "execution_count": null,
   "id": "2743c121-4be2-44e9-afe8-1cb644f67a87",
   "metadata": {
    "tags": []
   },
   "outputs": [],
   "source": [
    "files_to_index = [doc_dir + \"/\" + f for f in os.listdir(doc_dir) if os.path.isfile(doc_dir + \"/\" + f)]\n",
    "indexing_pipeline.run_batch(file_paths=files_to_index)"
   ]
  },
  {
   "cell_type": "code",
   "execution_count": null,
   "id": "d31a7143-4a05-496a-9c64-be5a7c2f05f7",
   "metadata": {
    "tags": []
   },
   "outputs": [],
   "source": [
    "retriever = BM25Retriever(document_store=document_store, top_k=5)"
   ]
  },
  {
   "cell_type": "code",
   "execution_count": null,
   "id": "7d47e22a-cd53-47c7-91a2-76cde56df83a",
   "metadata": {},
   "outputs": [],
   "source": [
    "# Creacion del nodo de Prompt Para preguntas, contexto y respuestas"
   ]
  },
  {
   "cell_type": "code",
   "execution_count": null,
   "id": "8709e390-2045-4ecb-9f5d-ba82e19dab96",
   "metadata": {
    "tags": []
   },
   "outputs": [],
   "source": [
    "rag_prompt = PromptTemplate(\n",
    "    prompt=\"\"\"Synthesize a comprehensive answer from the following text for the given question.\n",
    "        Provide a clear and concise response that summarizes the key points and information presented in the text.\n",
    "        Your answer should be in your own words and be no longer than 100 words.\n",
    "        \\n\\n Related text: {join(documents)} \\n\\n Question: {query} \\n\\n Answer:\"\"\",\n",
    "    output_parser=AnswerParser(),\n",
    ")\n",
    "\n",
    "#google/flan-t5-base --> Decente\n",
    "#google/flan-t5-small --> No funciona correctamente\n",
    "#google/flan-t5-large --> Necesita mucho entrenamiento y es bastante pesado\n",
    "\n",
    "prompt_node = PromptNode(model_name_or_path=\"google/flan-t5-large\", default_prompt_template=rag_prompt)\n"
   ]
  },
  {
   "cell_type": "code",
   "execution_count": null,
   "id": "7c57318d-4ee7-4f17-922b-c433b6b2f60d",
   "metadata": {
    "tags": []
   },
   "outputs": [],
   "source": [
    "rag_prompt = PromptTemplate(\n",
    "    prompt=\"question: {query} context: {join(documents)}\",\n",
    "    output_parser=AnswerParser(),\n",
    ")\n",
    "# Probar creando nuevos prompts\n",
    "# Answer the following question in a coherent way:{query} usign the following context: {join(documents)}. If you don't know the answer return the text 'Lo siento, desconozco la respuesta' whitout the quoutes.\n",
    "# {query} context: {join(documents)}\n",
    "\n",
    "#mrm8488/spanish-t5-small-sqac-for-qa --> Buenos resultados, falta hacerle un fine-tuning\n",
    "\n",
    "prompt_node = PromptNode(model_name_or_path=\"mrm8488/spanish-t5-small-sqac-for-qa\", default_prompt_template=rag_prompt)"
   ]
  },
  {
   "cell_type": "code",
   "execution_count": null,
   "id": "d031ffa8-3bac-43e6-94c6-bfc54278cede",
   "metadata": {
    "tags": []
   },
   "outputs": [],
   "source": [
    "gen_pipe = Pipeline()\n",
    "gen_pipe.add_node(component=retriever, name=\"retriever\", inputs=[\"Query\"])\n",
    "gen_pipe.add_node(component=prompt_node, name=\"prompt_node\", inputs=[\"retriever\"])"
   ]
  },
  {
   "cell_type": "code",
   "execution_count": null,
   "id": "bd328484-8512-43ff-a466-bbc4ccb862cb",
   "metadata": {
    "tags": []
   },
   "outputs": [],
   "source": [
    "output = gen_pipe.run(query=\"¿?\")\n",
    "print(output[\"answers\"][0].answer)"
   ]
  },
  {
   "cell_type": "code",
   "execution_count": null,
   "id": "72e9112c-3ffa-40e2-b5ef-86b8bbacdc67",
   "metadata": {
    "tags": []
   },
   "outputs": [],
   "source": [
    "search_tool = Tool(\n",
    "    name=\"genshin_answers_tool\",\n",
    "    pipeline_or_node=gen_pipe,\n",
    "    description=\"useful for when you need to answer questions about genshin impact\",\n",
    "    output_variable=\"answers\",\n",
    ")"
   ]
  },
  {
   "cell_type": "code",
   "execution_count": null,
   "id": "6b7dc79b-8c59-4735-94c0-182dac00488b",
   "metadata": {
    "tags": []
   },
   "outputs": [],
   "source": [
    "agent_prompt_node = PromptNode(\n",
    "    \"mrm8488/spanish-gpt2\",\n",
    "    max_length=256,\n",
    "    stop_words=[\"Observation:\"],\n",
    "    model_kwargs={\"temperature\": 0.5}\n",
    ")"
   ]
  },
  {
   "cell_type": "code",
   "execution_count": null,
   "id": "5d33810e-a995-4ff3-9460-32f200820ab2",
   "metadata": {
    "tags": []
   },
   "outputs": [],
   "source": [
    "memory_prompt_node = PromptNode(\n",
    "    \"IIC/mt5-spanish-mlsum\", max_length=256, model_kwargs={\"task_name\": \"text2text-generation\"}\n",
    ")\n",
    "memory = ConversationSummaryMemory(memory_prompt_node, prompt_template=\"{chat_transcript}\")"
   ]
  },
  {
   "cell_type": "code",
   "execution_count": null,
   "id": "4b71d3f2-c019-4d07-81aa-ce5a9a519ced",
   "metadata": {
    "tags": []
   },
   "outputs": [],
   "source": [
    "agent_prompt = \"\"\"\n",
    "In the following conversation, a human user interacts with an AI Agent. The human user poses questions, and the AI Agent goes through several steps to provide well-informed answers.\n",
    "The AI Agent must use the available tools to find the up-to-date information. The final answer to the question should be truthfully based solely on the output of the tools. The AI Agent should ignore its knowledge when answering the questions.\n",
    "The AI Agent has access to these tools:\n",
    "{tool_names_with_descriptions}\n",
    "\n",
    "The following is the previous conversation between a human and The AI Agent:\n",
    "{memory}\n",
    "\n",
    "AI Agent responses must start with one of the following:\n",
    "\n",
    "Thought: [the AI Agent's reasoning process]\n",
    "Tool: [tool names] (on a new line) Tool Input: [input as a question for the selected tool WITHOUT quotation marks and on a new line] (These must always be provided together and on separate lines.)\n",
    "Observation: [tool's result]\n",
    "Final Answer: [final answer to the human user's question]\n",
    "When selecting a tool, the AI Agent must provide both the \"Tool:\" and \"Tool Input:\" pair in the same response, but on separate lines.\n",
    "\n",
    "The AI Agent should not ask the human user for additional information, clarification, or context.\n",
    "If the AI Agent cannot find a specific answer after exhausting available tools and approaches, it answers with Final Answer: inconclusive\n",
    "\n",
    "Question: {query}\n",
    "Thought:\n",
    "{transcript}\n",
    "\"\"\""
   ]
  },
  {
   "cell_type": "code",
   "execution_count": null,
   "id": "7188f69a-b33e-43c3-bd44-e03dbe20086d",
   "metadata": {
    "tags": []
   },
   "outputs": [],
   "source": [
    "def resolver_function(query, agent, agent_step):\n",
    "    return {\n",
    "        \"query\": query,\n",
    "        \"tool_names_with_descriptions\": agent.tm.get_tool_names_with_descriptions(),\n",
    "        \"transcript\": agent_step.transcript,\n",
    "        \"memory\": agent.memory.load(),\n",
    "    }"
   ]
  },
  {
   "cell_type": "code",
   "execution_count": null,
   "id": "589fe868-c1cd-4f32-8525-c7dbc33d2971",
   "metadata": {
    "tags": []
   },
   "outputs": [],
   "source": [
    "conversational_agent = Agent(\n",
    "    agent_prompt_node,\n",
    "    prompt_template=agent_prompt,\n",
    "    prompt_parameters_resolver=resolver_function,\n",
    "    memory=memory,\n",
    "    tools_manager=ToolsManager([search_tool]),\n",
    ")"
   ]
  },
  {
   "cell_type": "code",
   "execution_count": null,
   "id": "2b7a6687-ecf0-43e6-8fb7-a1c411ef37c0",
   "metadata": {
    "tags": []
   },
   "outputs": [],
   "source": [
    "conversational_agent.run(\"¿Quien es la Shogun Raiden?\")"
   ]
  },
  {
   "cell_type": "code",
   "execution_count": null,
   "id": "dfe851df-fd83-46b3-9eab-bbb1f8cbe3ef",
   "metadata": {},
   "outputs": [],
   "source": []
  }
 ],
 "metadata": {
  "kernelspec": {
   "display_name": "Python 3 (ipykernel)",
   "language": "python",
   "name": "python3"
  },
  "language_info": {
   "codemirror_mode": {
    "name": "ipython",
    "version": 3
   },
   "file_extension": ".py",
   "mimetype": "text/x-python",
   "name": "python",
   "nbconvert_exporter": "python",
   "pygments_lexer": "ipython3",
   "version": "3.11.3"
  }
 },
 "nbformat": 4,
 "nbformat_minor": 5
}
